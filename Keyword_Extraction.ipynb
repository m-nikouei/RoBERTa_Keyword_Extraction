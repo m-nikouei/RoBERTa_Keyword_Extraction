{
 "cells": [
  {
   "cell_type": "markdown",
   "id": "21da5891",
   "metadata": {},
   "source": [
    "## Keyword Extraction Notebook\n",
    "\n",
    "In this notebook, we do keyword extraction using transformers' embeddings on [inspec](https://github.com/LIAAD/KeywordExtractor-Datasets/blob/master/datasets/Inspec.zip) dataset. Here, we are not extracting top keywords of each individual document. Instead, we are getting top keywords of all documents in the dataset. Of course, a byproduct of these process is the top keywords of each individual documents. All keywords extracted with these model are present in the document set.\n",
    "\n",
    "### Definition\n",
    "We consider a noun phrase a top keyword of given corpus, if it is among the most repeated words in the corpus, and moreover it is in the top most semantically similar keywords to different documents of the corpus.\n",
    "\n",
    "Semantically similarity is defined to be cosine similarity of two embedding vectors from latent space of a distilled transformer model.\n",
    "\n",
    "### Note\n",
    "In this notebook, we restrict our work to uni-grams and bi-grams as words.\n",
    "\n",
    "### Most Repeated Words\n",
    "To get the most repeated words, we use Countvectorizer, which counts the number of occurrences of a each word in each document. We sum up the number of occurrences of each word in each document to get to the number of occurrences of each word in the whole corpus. We choose top n (consider 5000) words. Then we use SpaCy to remove any non-noun phrases. \n",
    "\n",
    "### Semantics Similarity\n",
    "We use distilled version of \"RoBERTa-base\" model to calculate the embeddings of each noun phrase and each document if corpus. We use cosine similarity to calculate the similarity of each noun phrase with each document.\n",
    "\n",
    "### Top most Semantically Similar\n",
    "For each document, we choose m (consider 5) most semantically similar words. Among these words, we choose k (consider 20) words that occur as semantically similar words in most documents. Our output is the sorted (based on semantics similarity score) dictionary of these k words with their average similarity score.\n",
    "\n",
    "### Note\n",
    "In this process, we also output the top m words that are semantically similar to each document. "
   ]
  },
  {
   "cell_type": "markdown",
   "id": "0903f066",
   "metadata": {},
   "source": [
    "#### Reading and Cleaning Data\n",
    "First we read the data in order of filenames."
   ]
  },
  {
   "cell_type": "code",
   "execution_count": 1,
   "id": "09176051",
   "metadata": {},
   "outputs": [
    {
     "name": "stdout",
     "output_type": "stream",
     "text": [
      "2000\n"
     ]
    }
   ],
   "source": [
    "import os\n",
    "\n",
    "folder = 'inspec/docsutf8'\n",
    "filenumbers = sorted([int(f[:len(f)-4]) for f in os.listdir(folder)])\n",
    "texts = []\n",
    "for fnum in filenumbers:\n",
    "    f = open(os.path.join(folder,str(fnum)+'.txt'))\n",
    "    text = ''\n",
    "    for x in f.readlines():\n",
    "        text += x.strip() + ' '\n",
    "    f.close()\n",
    "    texts.append(text)\n",
    "    \n",
    "print(len(texts))"
   ]
  },
  {
   "cell_type": "code",
   "execution_count": 2,
   "id": "f4f22374",
   "metadata": {
    "scrolled": true
   },
   "outputs": [
    {
     "name": "stdout",
     "output_type": "stream",
     "text": [
      "(2000, 1)\n",
      "<class 'pandas.core.frame.DataFrame'>\n",
      "RangeIndex: 2000 entries, 0 to 1999\n",
      "Data columns (total 1 columns):\n",
      " #   Column  Non-Null Count  Dtype \n",
      "---  ------  --------------  ----- \n",
      " 0   Text    2000 non-null   object\n",
      "dtypes: object(1)\n",
      "memory usage: 15.8+ KB\n",
      "None\n"
     ]
    },
    {
     "data": {
      "text/html": [
       "<div>\n",
       "<style scoped>\n",
       "    .dataframe tbody tr th:only-of-type {\n",
       "        vertical-align: middle;\n",
       "    }\n",
       "\n",
       "    .dataframe tbody tr th {\n",
       "        vertical-align: top;\n",
       "    }\n",
       "\n",
       "    .dataframe thead th {\n",
       "        text-align: right;\n",
       "    }\n",
       "</style>\n",
       "<table border=\"1\" class=\"dataframe\">\n",
       "  <thead>\n",
       "    <tr style=\"text-align: right;\">\n",
       "      <th></th>\n",
       "      <th>Text</th>\n",
       "    </tr>\n",
       "  </thead>\n",
       "  <tbody>\n",
       "    <tr>\n",
       "      <th>0</th>\n",
       "      <td>Waiting for the wave to crest [wavelength serv...</td>\n",
       "    </tr>\n",
       "    <tr>\n",
       "      <th>1</th>\n",
       "      <td>NuVox shows staying power with new cash, new m...</td>\n",
       "    </tr>\n",
       "    <tr>\n",
       "      <th>2</th>\n",
       "      <td>Industry insiders loading up on cheap company ...</td>\n",
       "    </tr>\n",
       "    <tr>\n",
       "      <th>3</th>\n",
       "      <td>SBC gets more serious on regulatory compliance...</td>\n",
       "    </tr>\n",
       "    <tr>\n",
       "      <th>4</th>\n",
       "      <td>Anti-spam suit attempts to hold carriers accou...</td>\n",
       "    </tr>\n",
       "  </tbody>\n",
       "</table>\n",
       "</div>"
      ],
      "text/plain": [
       "                                                Text\n",
       "0  Waiting for the wave to crest [wavelength serv...\n",
       "1  NuVox shows staying power with new cash, new m...\n",
       "2  Industry insiders loading up on cheap company ...\n",
       "3  SBC gets more serious on regulatory compliance...\n",
       "4  Anti-spam suit attempts to hold carriers accou..."
      ]
     },
     "execution_count": 2,
     "metadata": {},
     "output_type": "execute_result"
    }
   ],
   "source": [
    "import pandas as pd\n",
    "\n",
    "df = pd.DataFrame(texts,columns = ['Text'])\n",
    "print(df.shape)\n",
    "print(df.info())\n",
    "df.head()"
   ]
  },
  {
   "cell_type": "markdown",
   "id": "abc8e493",
   "metadata": {},
   "source": [
    "#### Word Frequencies\n",
    "We calculate word frequencies and sort them from most to least frequent words."
   ]
  },
  {
   "cell_type": "code",
   "execution_count": 3,
   "id": "7e9375b5",
   "metadata": {},
   "outputs": [],
   "source": [
    "from sklearn.feature_extraction.text import CountVectorizer\n",
    "\n",
    "count = CountVectorizer(ngram_range=(1,2),\n",
    "        stop_words='english').fit(df['Text'])\n",
    "\n",
    "tdm = count.transform(df['Text'])\n",
    "sum_words = tdm.sum(axis=0)\n",
    "words_freq = [(word,sum_words[0, idx]) for word, idx in      \n",
    "                   count.vocabulary_.items()]\n",
    "words_freq = [(k,v) for k,v in sorted(words_freq,key=lambda x: x[1],reverse=True)]"
   ]
  },
  {
   "cell_type": "markdown",
   "id": "f72dca0b",
   "metadata": {},
   "source": [
    "#### Plotting 20 Most Frequent Words and Their Frequency"
   ]
  },
  {
   "cell_type": "code",
   "execution_count": 4,
   "id": "d3b94b39",
   "metadata": {},
   "outputs": [],
   "source": [
    "import matplotlib.pyplot as plt\n",
    "\n",
    "def bar_plot(words,scores,caption,xcaption,ycaption):\n",
    "    fig = plt.figure(figsize = (10,5))\n",
    "    y_pos = range(len(words))\n",
    "    plt.bar(y_pos,scores)\n",
    "    plt.xticks(y_pos, words, rotation=90)\n",
    " \n",
    "    plt.xlabel(caption)\n",
    "    plt.ylabel(xcaption)\n",
    "    plt.title(ycaption)\n",
    "    plt.show()"
   ]
  },
  {
   "cell_type": "code",
   "execution_count": 5,
   "id": "4f2fa17c",
   "metadata": {},
   "outputs": [
    {
     "data": {
      "image/png": "[encoded data removed]",
      "text/plain": [
       "<Figure size 720x360 with 1 Axes>"
      ]
     },
     "metadata": {
      "needs_background": "light"
     },
     "output_type": "display_data"
    }
   ],
   "source": [
    "ws,ss = [],[]\n",
    "topn = 20\n",
    "for w,s in words_freq:\n",
    "    if len(ws) == topn:\n",
    "        break\n",
    "    ws.append(w)\n",
    "    ss.append(s)\n",
    "bar_plot(ws,ss,'Top Frequent Keywords','Keywords','Scores')"
   ]
  },
  {
   "cell_type": "markdown",
   "id": "2b625cfc",
   "metadata": {},
   "source": [
    "#### Create List of Most Frequent Noun Phrases\n",
    "Since, we cannot calculate the similarity scores of all words, we consider 5000 most frequent words. We consider only noun phrases from this list."
   ]
  },
  {
   "cell_type": "code",
   "execution_count": 6,
   "id": "28182572",
   "metadata": {},
   "outputs": [],
   "source": [
    "topn = 5000\n",
    "\n",
    "keyword_freq = set()\n",
    "for word,_ in words_freq[:topn]:\n",
    "    # sanity check: making sure there is no duplicate word\n",
    "    if word in keyword_freq:\n",
    "        print('seen:',word)\n",
    "    keyword_freq.add(word)\n",
    "    \n",
    "keyword_list = list(keyword_freq)"
   ]
  },
  {
   "cell_type": "code",
   "execution_count": 7,
   "id": "a49b5942",
   "metadata": {},
   "outputs": [
    {
     "data": {
      "text/plain": [
       "2961"
      ]
     },
     "execution_count": 7,
     "metadata": {},
     "output_type": "execute_result"
    }
   ],
   "source": [
    "import en_core_web_sm\n",
    "\n",
    "nlp = en_core_web_sm.load()\n",
    "df['doc'] = df['Text'].apply(nlp)\n",
    "\n",
    "noun_phrases_list = []\n",
    "def get_pharses(x):\n",
    "    for chunk in x.noun_chunks:\n",
    "        noun_phrases_list.append(chunk.text.strip().lower())\n",
    "\n",
    "df['doc'].apply(get_pharses)\n",
    "noun_phrases = set(noun_phrases_list)\n",
    "\n",
    "nouns = set()\n",
    "def get_nouns(x):\n",
    "    for token in x:\n",
    "        if token.pos_ == \"NOUN\":\n",
    "            nouns.add(token.text)\n",
    "\n",
    "df['doc'].apply(get_nouns)\n",
    "\n",
    "all_nouns = nouns.union(noun_phrases)\n",
    "\n",
    "candidates = list(filter(lambda candidate: candidate in all_nouns, keyword_list))\n",
    "len(candidates)"
   ]
  },
  {
   "cell_type": "markdown",
   "id": "189cd8bf",
   "metadata": {},
   "source": [
    "#### Loading \"distilroberta-base\""
   ]
  },
  {
   "cell_type": "code",
   "execution_count": 8,
   "id": "770ae15a",
   "metadata": {
    "scrolled": true
   },
   "outputs": [
    {
     "name": "stderr",
     "output_type": "stream",
     "text": [
      "Some weights of the model checkpoint at distilroberta-base were not used when initializing RobertaModel: ['lm_head.layer_norm.bias', 'lm_head.bias', 'lm_head.decoder.weight', 'lm_head.dense.weight', 'lm_head.dense.bias', 'lm_head.layer_norm.weight']\n",
      "- This IS expected if you are initializing RobertaModel from the checkpoint of a model trained on another task or with another architecture (e.g. initializing a BertForSequenceClassification model from a BertForPreTraining model).\n",
      "- This IS NOT expected if you are initializing RobertaModel from the checkpoint of a model that you expect to be exactly identical (initializing a BertForSequenceClassification model from a BertForSequenceClassification model).\n"
     ]
    }
   ],
   "source": [
    "from transformers import AutoModel, AutoTokenizer\n",
    "model_name = \"distilroberta-base\"\n",
    "model = AutoModel.from_pretrained(model_name)\n",
    "tokenizer = AutoTokenizer.from_pretrained(model_name)"
   ]
  },
  {
   "cell_type": "markdown",
   "id": "6a75e68e",
   "metadata": {},
   "source": [
    "#### Getting Embeddings of Noun Phrases"
   ]
  },
  {
   "cell_type": "code",
   "execution_count": 9,
   "id": "a5f16ec9",
   "metadata": {},
   "outputs": [
    {
     "data": {
      "text/plain": [
       "(2961, 768)"
      ]
     },
     "execution_count": 9,
     "metadata": {},
     "output_type": "execute_result"
    }
   ],
   "source": [
    "candidate_tokens = tokenizer(candidates, padding=True, return_tensors=\"pt\")\n",
    "candidate_embeddings = model(**candidate_tokens)[\"pooler_output\"]\n",
    "candidate_embeddings = candidate_embeddings.detach().numpy()\n",
    "candidate_embeddings.shape"
   ]
  },
  {
   "cell_type": "markdown",
   "id": "70e2ff97",
   "metadata": {},
   "source": [
    "#### Finding Top Semantically Similar Noun Phrases for Each Document\n",
    "For each document and each word candidate, we calculate the cosine similarity score. Then we get the top_k words with highest scores and add the words and their scores to a dictionary for the document, docs_dict, and we add their scores to a dictionary that saves best scores for each word candidate, candidate_dict.\n",
    "\n",
    "docs_dict can be used to get top k keywords for each documents"
   ]
  },
  {
   "cell_type": "code",
   "execution_count": null,
   "id": "3e822d3a",
   "metadata": {},
   "outputs": [
    {
     "name": "stderr",
     "output_type": "stream",
     "text": [
      " 88%|████████▊ | 1758/2000 [06:43<01:01,  3.94it/s]"
     ]
    }
   ],
   "source": [
    "from sklearn.metrics.pairwise import cosine_similarity\n",
    "from tqdm import tqdm\n",
    "\n",
    "top_k = 5\n",
    "docs = df['Text'].tolist()\n",
    "candidate_dict = {x:[] for x in candidates}\n",
    "docs_dict = {}\n",
    "\n",
    "for doc in tqdm(docs):\n",
    "    text_tokens = tokenizer(doc, padding=True, return_tensors=\"pt\",max_length=512, truncation=True)\n",
    "    text_embedding = model(**text_tokens)[\"pooler_output\"]\n",
    "    text_embedding = text_embedding.detach().numpy()\n",
    "    distances = cosine_similarity(text_embedding, candidate_embeddings)\n",
    "    doc_top_keywords = []\n",
    "    for j in distances.argsort()[0][-top_k:]:\n",
    "        candidate_dict[candidates[j]] += [distances[0][j]]\n",
    "        doc_top_keywords.append((candidates[j],distances[0][j]))\n",
    "    docs_dict[doc] = doc_top_keywords"
   ]
  },
  {
   "cell_type": "markdown",
   "id": "486a19e3",
   "metadata": {},
   "source": [
    "#### Finding top Most Occurring Semantically Similar Noun Phrases in Corpus\n",
    "For each word candidate, we count number of documents the word is in their top semantically similar keywords. Then we select top_n words with most occupance as top keywords in Corpus. We order these keywords based on their average similarity scores and return as top keywords of the corpus."
   ]
  },
  {
   "cell_type": "code",
   "execution_count": null,
   "id": "5d2845c3",
   "metadata": {},
   "outputs": [],
   "source": [
    "from statistics import mean\n",
    "from collections import Counter\n",
    "\n",
    "candidates_score = {}\n",
    "len_count = Counter()\n",
    "\n",
    "for _,v in candidate_dict.items():\n",
    "    len_count[len(v)] += 1\n",
    "\n",
    "len_count = {k:v for k,v in sorted(len_count.items(),reverse = True)}\n",
    "\n",
    "top_n = 20\n",
    "count_sum = 0\n",
    "cut_off_len = 0\n",
    "for k,v in len_count.items():\n",
    "    if count_sum >= top_n:\n",
    "        cut_off_len = k\n",
    "        break\n",
    "    count_sum += v\n",
    "\n",
    "print('Least number of occurances as top 5 word in any document:',cut_off_len)\n",
    "    \n",
    "for k,v in candidate_dict.items():\n",
    "    if cut_off_len <= len(v):\n",
    "        candidates_score[k] = mean(v)\n",
    "\n",
    "candidates_score = {k:v for k,v in sorted(candidates_score.items(),key = lambda x: x[1],reverse=True)}\n",
    "candidates_score,len(candidates_score)"
   ]
  },
  {
   "cell_type": "markdown",
   "id": "29db919b",
   "metadata": {},
   "source": [
    "#### Plotting Top 20 Semantically Similar Words to Corpus and Their Scores\n",
    "Since the scores are pretty close to 1 for these words, we adjust the scores to visualize their difference"
   ]
  },
  {
   "cell_type": "code",
   "execution_count": null,
   "id": "c478d71c",
   "metadata": {},
   "outputs": [],
   "source": [
    "ws,ss = [],[]\n",
    "topn = 20\n",
    "for w,s in candidates_score.items():\n",
    "    if len(ws) == topn:\n",
    "        break\n",
    "    ws.append(w)\n",
    "    ss.append(s * 10000 - 9950)\n",
    "bar_plot(ws,ss,'Top Keywords','Semantics Based Top Keywords','Adjusted Similarity Scores')"
   ]
  },
  {
   "cell_type": "code",
   "execution_count": null,
   "id": "5c60ce5b",
   "metadata": {},
   "outputs": [],
   "source": []
  }
 ],
 "metadata": {
  "kernelspec": {
   "display_name": "Python 3",
   "language": "python",
   "name": "python3"
  },
  "language_info": {
   "codemirror_mode": {
    "name": "ipython",
    "version": 3
   },
   "file_extension": ".py",
   "mimetype": "text/x-python",
   "name": "python",
   "nbconvert_exporter": "python",
   "pygments_lexer": "ipython3",
   "version": "3.8.8"
  }
 },
 "nbformat": 4,
 "nbformat_minor": 5
}
